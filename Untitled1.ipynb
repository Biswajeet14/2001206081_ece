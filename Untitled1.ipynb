{
  "nbformat": 4,
  "nbformat_minor": 0,
  "metadata": {
    "colab": {
      "provenance": [],
      "authorship_tag": "ABX9TyO/zNuXUSumdWWuRw8AtfPP",
      "include_colab_link": true
    },
    "kernelspec": {
      "name": "python3",
      "display_name": "Python 3"
    },
    "language_info": {
      "name": "python"
    }
  },
  "cells": [
    {
      "cell_type": "markdown",
      "metadata": {
        "id": "view-in-github",
        "colab_type": "text"
      },
      "source": [
        "<a href=\"https://colab.research.google.com/github/Biswajeet14/2001206081_ece/blob/main/Untitled1.ipynb\" target=\"_parent\"><img src=\"https://colab.research.google.com/assets/colab-badge.svg\" alt=\"Open In Colab\"/></a>"
      ]
    },
    {
      "cell_type": "code",
      "execution_count": 4,
      "metadata": {
        "colab": {
          "base_uri": "https://localhost:8080/"
        },
        "id": "zfE5HRzDuiHn",
        "outputId": "19963195-a76d-4cdb-8160-6584b4e86c4c"
      },
      "outputs": [
        {
          "output_type": "stream",
          "name": "stdout",
          "text": [
            "a/b= 2.5\n",
            "a//b= 2\n",
            "a**b= 25\n",
            "a<b= False\n",
            "a>b= True\n"
          ]
        }
      ],
      "source": [
        "#using arithmetic operator and comparission operator\n",
        "a=5\n",
        "b=2\n",
        "print('a/b=',a/b)\n",
        "print('a//b=',a//b)\n",
        "print('a**b=',a**b)\n",
        "print('a<b=',a<b)\n",
        "print('a>b=',a>b)"
      ]
    },
    {
      "cell_type": "code",
      "source": [
        "#using Logical Operator\n",
        "a=True\n",
        "print('not A=',not a)\n",
        "b=False\n",
        "print('not B=',not b)"
      ],
      "metadata": {
        "colab": {
          "base_uri": "https://localhost:8080/"
        },
        "id": "n63hLKhhw19c",
        "outputId": "62a95189-5422-44b3-9185-7156abb362c5"
      },
      "execution_count": 6,
      "outputs": [
        {
          "output_type": "stream",
          "name": "stdout",
          "text": [
            "not A= False\n",
            "not B= True\n"
          ]
        }
      ]
    },
    {
      "cell_type": "code",
      "source": [
        "#Bitwise operator\n",
        "a=2\n",
        "b=3\n",
        "c=a<<b\n",
        "print('a<<b=',c)"
      ],
      "metadata": {
        "colab": {
          "base_uri": "https://localhost:8080/"
        },
        "id": "HdqbLi1Vydp4",
        "outputId": "ebb6848a-4f3a-4d6a-ca15-3967ac2aec53"
      },
      "execution_count": 7,
      "outputs": [
        {
          "output_type": "stream",
          "name": "stdout",
          "text": [
            "a<<b= 16\n"
          ]
        }
      ]
    },
    {
      "cell_type": "code",
      "source": [
        "#Bitwise Operator\n",
        "a=2\n",
        "b=3\n",
        "c=a>>b\n",
        "print('a>>b=',c)"
      ],
      "metadata": {
        "colab": {
          "base_uri": "https://localhost:8080/"
        },
        "id": "0fd9VOMWzE_h",
        "outputId": "a5f2d142-8351-4691-f3fd-c9ae7936d6d5"
      },
      "execution_count": 8,
      "outputs": [
        {
          "output_type": "stream",
          "name": "stdout",
          "text": [
            "a>>b= 0\n"
          ]
        }
      ]
    },
    {
      "cell_type": "code",
      "source": [
        "#Using Identify Operator\n",
        "a=5\n",
        "b=5\n",
        "print('a is b',a is b)\n",
        "print('a is not b',a is not b)\n",
        "x='ECE'\n",
        "y='CSE'\n",
        "print('x is y',x is y)\n",
        "print('x is not y',x is not y)"
      ],
      "metadata": {
        "colab": {
          "base_uri": "https://localhost:8080/"
        },
        "id": "9y7WAGl10Ai0",
        "outputId": "8152694e-4d70-46b3-8b7d-f9197bc128f8"
      },
      "execution_count": 10,
      "outputs": [
        {
          "output_type": "stream",
          "name": "stdout",
          "text": [
            "a is b True\n",
            "a is not b False\n",
            "x is y False\n",
            "x is not y True\n"
          ]
        }
      ]
    },
    {
      "cell_type": "code",
      "source": [
        "#Using Membership OPerator (in and not in)\n",
        "a='Hello ECE'\n",
        "print('A in a',a in 'A')"
      ],
      "metadata": {
        "colab": {
          "base_uri": "https://localhost:8080/"
        },
        "id": "rI5lv5-p1ldq",
        "outputId": "27b814b2-d97e-4898-94da-c7e5d3c7f577"
      },
      "execution_count": 13,
      "outputs": [
        {
          "output_type": "stream",
          "name": "stdout",
          "text": [
            "A in a False\n"
          ]
        }
      ]
    },
    {
      "cell_type": "code",
      "source": [
        "num=int(input(\"enter the number\"))\n",
        "if num%2==0:\n",
        "  print(\"Number is even\")\n",
        "else:\n",
        "    print(\"Number is odd\")"
      ],
      "metadata": {
        "colab": {
          "base_uri": "https://localhost:8080/"
        },
        "id": "JqGYBzzf3MeM",
        "outputId": "7b03df4c-e186-4e83-c70c-dbf51290e821"
      },
      "execution_count": 17,
      "outputs": [
        {
          "output_type": "stream",
          "name": "stdout",
          "text": [
            "enter the number8249602773\n",
            "Number is odd\n"
          ]
        }
      ]
    },
    {
      "cell_type": "code",
      "source": [
        "#using if...elif statement\n",
        "number=int(input(\"Enter the number\"))\n",
        "if number==10:\n",
        "  print(\"Number is equals to 10\")\n",
        "elif number==50:\n",
        " print(\"Number is equals to 50\")\n",
        "elif number==100:\n",
        "   print(\"Number is equals to 100\")\n",
        "else:\n",
        "     print(\"Number is not equals to 10,50,100\")"
      ],
      "metadata": {
        "colab": {
          "base_uri": "https://localhost:8080/"
        },
        "id": "UV78srhT5cW0",
        "outputId": "f1a96e4f-55ce-4898-c563-9f8094e581d8"
      },
      "execution_count": 19,
      "outputs": [
        {
          "output_type": "stream",
          "name": "stdout",
          "text": [
            "Enter the number100\n",
            "Number is equals to 100\n"
          ]
        }
      ]
    },
    {
      "cell_type": "code",
      "source": [],
      "metadata": {
        "id": "UTFbJwrYzyLr"
      },
      "execution_count": null,
      "outputs": []
    }
  ]
}